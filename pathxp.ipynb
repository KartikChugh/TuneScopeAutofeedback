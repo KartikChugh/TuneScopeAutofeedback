{
 "cells": [
  {
   "cell_type": "code",
   "execution_count": 131,
   "metadata": {},
   "outputs": [],
   "source": [
    "from itertools import combinations\n",
    "\n",
    "def contiguous_subpaths(path : str):\n",
    "    tags = path.strip(\"/\").split(\"/\")\n",
    "    indices = list(range(len(tags)+1))\n",
    "\n",
    "    for i,j in combinations(indices,2):\n",
    "        yield '/'.join(tags[i:j])"
   ]
  },
  {
   "cell_type": "code",
   "execution_count": 132,
   "metadata": {},
   "outputs": [
    {
     "name": "stdout",
     "output_type": "stream",
     "text": [
      "Number of docs:  3\n"
     ]
    }
   ],
   "source": [
    "docsFolder = 'docs/'\n",
    "k = 2.0\n",
    "minsup = 1/k\n",
    "\n",
    "N = len(os.listdir(docsFolder))\n",
    "print(\"Number of docs: \", N)"
   ]
  },
  {
   "cell_type": "code",
   "execution_count": 106,
   "metadata": {},
   "outputs": [
    {
     "name": "stdout",
     "output_type": "stream",
     "text": [
      "Number of docs:  3\n",
      "Paths per doc:  802 813 417\n",
      "Total paths:  994\n",
      "['block/list/block/block/block/autolambda/custom-block/l', 'scene/blocks/block-definition/code', 'block/script/block/l/option', 'scene/blocks/block-definition/script/block/script/block/script/block/l', 'scenes/scene/stage/sprites/sprite/blocks', 'project/scenes/scene/blocks/block-definition/script/block/block/block/block/list/block', 'blocks/block-definition/script/block/script/block/script', 'blocks/block-definition/script/block/script/block', 'project/scenes/scene/stage/sprites/sprite/variables', 'project/scenes/scene/blocks/block-definition/script/block/l/option', 'scene/stage/scripts/script', 'sprites/watcher', 'blocks/block-definition/script/block/l/option', 'scene/stage/sprites/sprite/sounds', 'script/block/block/custom-block/block', 'block/custom-block/block/list', 'project/scenes/scene/blocks/block-definition/script/block/script/block/block', 'block/block/autolambda/block/block/block', 'scripts/script/block/block', 'block-definition/header', 'block/block/autolambda/block/custom-block/l', 'scene/stage/sprites/sprite/variables', 'scenes/scene/stage/sprites/sprite/scripts/script/custom-block', 'block/custom-block/block/list/block/list/l', 'scenes/scene/blocks/block-definition/script/block/block/list/block/list/l']\n"
     ]
    }
   ],
   "source": [
    "from lxml import etree\n",
    "import re\n",
    "import os\n",
    "from collections import defaultdict\n",
    "\n",
    "\n",
    "docpathsAll = []\n",
    "\n",
    "# Paths in each doc # TODO: Need to incorporate subpaths!\n",
    "for docName in os.listdir(docsFolder):\n",
    "    doc = etree.parse(docsFolder + docName)\n",
    "    docpathsFreq = defaultdict(int)\n",
    "    for node in doc.iter():\n",
    "        full_path = doc.getpath(node)\n",
    "        full_path = re.sub(r'\\[\\d*\\]', '', full_path) # remove [num] markers inserted by lxml\n",
    "        for f in contiguous_subpaths(full_path): \n",
    "            docpathsFreq[f] += 1\n",
    "    docpathsAll.append(docpathsFreq)\n",
    "\n",
    "# All paths\n",
    "print(\"Paths per doc: \", *(len(docpathsFreq) for docpathsFreq in docpathsAll))\n",
    "paths = list({docpath for docpathsFreq in docpathsAll for docpath in docpathsFreq})\n",
    "print(\"Total paths: \", len(paths))\n",
    "print(paths[0:25])\n",
    "\n"
   ]
  },
  {
   "cell_type": "code",
   "execution_count": 107,
   "metadata": {},
   "outputs": [
    {
     "name": "stdout",
     "output_type": "stream",
     "text": [
      "Patterns: 142\n",
      "['block/list/block/block/block/autolambda/custom-block/l', 'scene/blocks/block-definition/code', 'block/script/block/l/option', 'scene/blocks/block-definition/script/block/script/block/script/block/l', 'scenes/scene/stage/sprites/sprite/blocks', 'project/scenes/scene/blocks/block-definition/script/block/block/block/block/list/block', 'project/scenes/scene/stage/sprites/sprite/variables', 'project/scenes/scene/blocks/block-definition/script/block/l/option', 'scene/stage/scripts/script', 'sprites/watcher', 'scene/stage/sprites/sprite/sounds', 'script/block/block/custom-block/block', 'project/scenes/scene/blocks/block-definition/script/block/script/block/block', 'block/block/autolambda/block/block/block', 'block-definition/header', 'block/block/autolambda/block/custom-block/l', 'scenes/scene/stage/sprites/sprite/scripts/script/custom-block', 'script/block/block/block/block/autolambda', 'script/block/block/block/autolambda/block/block', 'scenes/scene/blocks/block-definition/script/block/block/list/block/block/autolambda/block/list', 'scene/blocks/block-definition/script/block/block/block/autolambda/block/block/block/l', 'project/scenes/scene/blocks/block-definition/script/block/block/block/block/autolambda/block/block', 'project/scenes/scene/blocks/block-definition/script/block/block/list/block/block/block/autolambda/custom-block/l', 'sprites/sprite/scripts/script/block/l', 'block-definition/script/block/block/block/block/autolambda/block/l']\n"
     ]
    }
   ],
   "source": [
    "# Patterns = Maximum frequency paths: occur in at least minsup% of docs\n",
    "maxfreqpaths = []\n",
    "for path in paths:\n",
    "    freq = sum([1 for docpaths in docpathsAll if path in docpaths])\n",
    "    if (freq/N >= minsup) and not any(path in maxfreqpath for maxfreqpath in maxfreqpaths): # TODO: Optimize\n",
    "        maxfreqpaths.append(path)\n",
    "\n",
    "print(\"Patterns:\", len(maxfreqpaths))\n",
    "print(maxfreqpaths[0:25])"
   ]
  },
  {
   "cell_type": "code",
   "execution_count": 109,
   "metadata": {},
   "outputs": [],
   "source": [
    "# Frequency of a path in a doc\n",
    "def m(p, di):\n",
    "    docpathsFreq = docpathsAll[di]\n",
    "    return docpathsFreq[p]\n",
    "\n",
    "# Similarity between two path patterns, using AHC Complete Link Algorithm\n",
    "def sim(p1, p2):\n",
    "    n = 0\n",
    "    d = 0\n",
    "    for docindex in range(N):\n",
    "        m1 = m(p1, docindex)\n",
    "        m2 = m(p2, docindex)\n",
    "        mmin = min(m1, m2)\n",
    "        n += mmin\n",
    "        d += (m1 + m2 - mmin)\n",
    "    return n/d"
   ]
  },
  {
   "cell_type": "code",
   "execution_count": 110,
   "metadata": {},
   "outputs": [],
   "source": [
    "from cluster import HierarchicalClustering\n",
    "\n",
    "cl = HierarchicalClustering(maxfreqpaths, sim)\n",
    "cl.set_linkage_method('complete')"
   ]
  },
  {
   "cell_type": "code",
   "execution_count": 122,
   "metadata": {},
   "outputs": [
    {
     "name": "stdout",
     "output_type": "stream",
     "text": [
      "Number of profiles:  3\n"
     ]
    }
   ],
   "source": [
    "profiles = cl.getlevel(minsup)\n",
    "print(\"Number of profiles: \", len(profiles))"
   ]
  },
  {
   "cell_type": "code",
   "execution_count": 90,
   "metadata": {},
   "outputs": [
    {
     "name": "stdout",
     "output_type": "stream",
     "text": [
      "[level 1.0]\n",
      "    [level 0.5]\n",
      "    sounds/list\n",
      "        [level 0.5]\n",
      "        scenes/scene/stage/costumes\n",
      "            [level 0.5]\n",
      "            scene/stage/costumes\n",
      "                [level 0.3333333333333333]\n",
      "                scenes/scene/stage/scripts\n",
      "                    [level 0.3]\n",
      "                        [level 0.2727272727272727]\n",
      "                        custom-block/l\n",
      "                            [level 0.25]\n",
      "                                [level 0.12]\n",
      "                                    [level 0.1]\n",
      "                                        [level 0.1]\n",
      "                                            [level 0.0967741935483871]\n",
      "                                                [level 0.06818181818181818]\n",
      "                                                    [level 0.057692307692307696]\n",
      "                                                        [level 0.057692307692307696]\n",
      "                                                            [level 0.05555555555555555]\n",
      "                                                                [level 0.05454545454545454]\n",
      "                                                                    [level 0.05454545454545454]\n",
      "                                                                        [level 0.05454545454545454]\n",
      "                                                                        scene/blocks/block-definition/translations\n",
      "                                                                        scene/code\n",
      "                                                                        [level 0.05454545454545454]\n",
      "                                                                            [level 0.05172413793103448]\n",
      "                                                                                [level 0.018633540372670808]\n",
      "                                                                                    [level 0.015625]\n",
      "                                                                                        [level 0.006772009029345372]\n",
      "                                                                                        blocks/block-definition/script/block/block\n",
      "                                                                                        project/notes\n",
      "                                                                                        [level 0.015625]\n",
      "                                                                                        blocks/block-definition/script/block/script/block\n",
      "                                                                                        project/scenes/scene/headers\n",
      "                                                                                    [level 0.018633540372670808]\n",
      "                                                                                    project/scenes/scene/blocks/block-definition/script/block/block/block\n",
      "                                                                                    project/scenes/scene/hidden\n",
      "                                                                                [level 0.05172413793103448]\n",
      "                                                                                project/scenes/scene/blocks/block-definition/script/block/l\n",
      "                                                                                project/scenes/scene/stage/costumes/list\n",
      "                                                                            [level 0.05454545454545454]\n",
      "                                                                            block-definition/header\n",
      "                                                                            project/scenes/scene/stage/pentrails\n",
      "                                                                    [level 0.05454545454545454]\n",
      "                                                                        [level 0.05454545454545454]\n",
      "                                                                            [level 0.05454545454545454]\n",
      "                                                                            blocks/block-definition/translations\n",
      "                                                                            project/scenes/scene/stage/sounds/list\n",
      "                                                                            [level 0.05454545454545454]\n",
      "                                                                            project/scenes/scene/blocks/block-definition/code\n",
      "                                                                            project/scenes/scene/stage/sprites/sprite/blocks\n",
      "                                                                        [level 0.05454545454545454]\n",
      "                                                                            [level 0.05454545454545454]\n",
      "                                                                            project/scenes/scene/blocks/block-definition/header\n",
      "                                                                            project/scenes/scene/stage/sprites/sprite/costumes/list\n",
      "                                                                            [level 0.05454545454545454]\n",
      "                                                                            project/scenes/scene/blocks/block-definition/translations\n",
      "                                                                            project/scenes/scene/stage/sprites/sprite/sounds/list\n",
      "                                                                [level 0.05555555555555555]\n",
      "                                                                project/scenes/scene/variables/variable\n",
      "                                                                scene/stage/costumes/list\n",
      "                                                            [level 0.057692307692307696]\n",
      "                                                            project/scenes/scene/blocks/block-definition/inputs/input\n",
      "                                                            scenes/scene/headers\n",
      "                                                        [level 0.057692307692307696]\n",
      "                                                            [level 0.057692307692307696]\n",
      "                                                            scene/blocks/block-definition/inputs/input\n",
      "                                                            scenes/scene/hidden\n",
      "                                                            [level 0.057692307692307696]\n",
      "                                                            scenes/scene/blocks/block-definition/inputs/input\n",
      "                                                            scenes/scene/stage/costumes/list\n",
      "                                                    [level 0.06818181818181818]\n",
      "                                                    block/block/list/l\n",
      "                                                    scenes/scene/stage/pentrails\n",
      "                                                [level 0.0967741935483871]\n",
      "                                                project/scenes/scene/blocks/block-definition/script/block/block/l\n",
      "                                                scenes/scene/stage/sprites/sprite/blocks\n",
      "                                            [level 0.1]\n",
      "                                            block/block/block/list\n",
      "                                            stage/costumes/list\n",
      "                                        [level 0.16666666666666666]\n",
      "                                        project/scenes/scene/stage/sprites/sprite/scripts\n",
      "                                        project/scenes/scene/stage/sprites/watcher\n",
      "                                    [level 0.2]\n",
      "                                    project/scenes/scene/blocks/block-definition/script/block/script/block/block\n",
      "                                    scenes/scene/stage/sprites/watcher\n",
      "                                [level 0.21428571428571427]\n",
      "                                    [level 0.16666666666666666]\n",
      "                                    project/scenes/scene/stage/sprites/sprite/scripts/script/block\n",
      "                                    script/custom-block/l\n",
      "                                    [level 0.21428571428571427]\n",
      "                                    scenes/scene/stage/sprites/sprite/scripts/script/block\n",
      "                                    sprites/watcher\n",
      "                        [level 0.2857142857142857]\n",
      "                        block/script/block/l/option\n",
      "                        project/scenes/scene/stage/sprites/sprite/scripts/script/custom-block\n",
      "    [level 0.5]\n",
      "    stage/costumes\n",
      "        [level 0.5]\n",
      "        scenes/scene/stage/sprites/sprite/costumes\n",
      "            [level 0.5]\n",
      "            scene/stage/sprites/sprite/sounds\n",
      "                [level 0.375]\n",
      "                script/block/block/l/option\n",
      "                    [level 0.3333333333333333]\n",
      "                    project/scenes/scene/stage/scripts\n",
      "                        [level 0.3]\n",
      "                            [level 0.13043478260869565]\n",
      "                                [level 0.13636363636363635]\n",
      "                                script/block/block/block/list\n",
      "                                    [level 0.08823529411764706]\n",
      "                                        [level 0.05555555555555555]\n",
      "                                            [level 0.05555555555555555]\n",
      "                                            scene/stage/sprites/sprite/costumes/list\n",
      "                                            scenes/scene/variables/variable\n",
      "                                            [level 0.05555555555555555]\n",
      "                                                [level 0.05454545454545454]\n",
      "                                                    [level 0.05454545454545454]\n",
      "                                                        [level 0.05454545454545454]\n",
      "                                                        project/scenes/scene/stage/variables\n",
      "                                                        scene/blocks/block-definition/header\n",
      "                                                        [level 0.05454545454545454]\n",
      "                                                        scene/headers\n",
      "                                                        scenes/scene/blocks/block-definition/translations\n",
      "                                                    [level 0.05454545454545454]\n",
      "                                                        [level 0.05454545454545454]\n",
      "                                                        scene/hidden\n",
      "                                                        translations\n",
      "                                                        [level 0.05454545454545454]\n",
      "                                                            [level 0.05084745762711865]\n",
      "                                                                [level 0.028037383177570093]\n",
      "                                                                    [level 0.006772009029345372]\n",
      "                                                                    project/scenes/scene/code\n",
      "                                                                    scenes/scene/blocks/block-definition/script/block/block\n",
      "                                                                    [level 0.028037383177570093]\n",
      "                                                                    project/scenes/scene/notes\n",
      "                                                                    scenes/scene/blocks/block-definition/inputs\n",
      "                                                                [level 0.05084745762711865]\n",
      "                                                                project/scenes/scene/stage/blocks\n",
      "                                                                script/block/script/block/block/block\n",
      "                                                            [level 0.05454545454545454]\n",
      "                                                            project/scenes/scene/stage/sprites/sprite/variables\n",
      "                                                            scene/blocks/block-definition/code\n",
      "                                                [level 0.05555555555555555]\n",
      "                                                scene/stage/sounds/list\n",
      "                                                scene/variables/variable\n",
      "                                        [level 0.08823529411764706]\n",
      "                                        scenes/scene/stage/sounds/list\n",
      "                                        script/block/script/block/l\n",
      "                                [level 0.2608695652173913]\n",
      "                                project/scenes/scene/stage/sounds\n",
      "                                script/block/block/block/l/option\n",
      "                            [level 0.2857142857142857]\n",
      "                            scenes/scene/stage/sprites/sprite/scripts/script/custom-block\n",
      "                            script/block/script/block/l/option\n"
     ]
    }
   ],
   "source": [
    "cl.display()"
   ]
  },
  {
   "cell_type": "code",
   "execution_count": 128,
   "metadata": {},
   "outputs": [],
   "source": [
    "def connection_strength(docpathsFreq, profile):\n",
    "    n = 0\n",
    "    d = 0\n",
    "    for pattern in profile:\n",
    "        if docpathsFreq[pattern] > 0:\n",
    "            n += 1\n",
    "        d += 1\n",
    "    return n/d"
   ]
  },
  {
   "cell_type": "code",
   "execution_count": 129,
   "metadata": {},
   "outputs": [],
   "source": [
    "import numpy as np\n",
    "\n",
    "def assign_docs(docpathsAll, profiles):\n",
    "    for docindex in range(N):\n",
    "        docpathsFreq = docpathsAll[docindex]\n",
    "        strengths = [connection_strength(docpathsFreq, profile) for profile in profiles]\n",
    "        print(strengths)\n",
    "        profileindex = np.argmax(strengths)\n",
    "        print(docindex, profileindex)"
   ]
  },
  {
   "cell_type": "code",
   "execution_count": 130,
   "metadata": {},
   "outputs": [
    {
     "name": "stdout",
     "output_type": "stream",
     "text": [
      "[1.0, 0.9629629629629629, 1.0]\n",
      "0 0\n",
      "[1.0, 0.9259259259259259, 1.0]\n",
      "1 0\n",
      "[0.0, 0.5333333333333333, 0.5]\n",
      "2 1\n"
     ]
    }
   ],
   "source": [
    "assign_docs(docpathsAll, profiles)"
   ]
  }
 ],
 "metadata": {
  "interpreter": {
   "hash": "aa7102d663cee38cd3b4995f61138fe8bac88d5c64b98dfb68c115630ae5cadd"
  },
  "kernelspec": {
   "display_name": "env",
   "language": "python",
   "name": "python3"
  },
  "language_info": {
   "codemirror_mode": {
    "name": "ipython",
    "version": 3
   },
   "file_extension": ".py",
   "mimetype": "text/x-python",
   "name": "python",
   "nbconvert_exporter": "python",
   "pygments_lexer": "ipython3",
   "version": "3.9.12"
  },
  "orig_nbformat": 4
 },
 "nbformat": 4,
 "nbformat_minor": 2
}
