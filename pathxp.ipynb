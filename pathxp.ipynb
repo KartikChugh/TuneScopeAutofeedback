{
 "cells": [
  {
   "cell_type": "code",
   "execution_count": 3,
   "metadata": {},
   "outputs": [],
   "source": [
    "from itertools import combinations\n",
    "\n",
    "def contiguous_subpaths(path : str):\n",
    "    tags = path.strip(\"/\").split(\"/\")\n",
    "    indices = list(range(len(tags)+1))\n",
    " \n",
    "    for i,j in combinations(indices,2):\n",
    "        yield '/'.join(tags[i:j])"
   ]
  },
  {
   "cell_type": "code",
   "execution_count": 9,
   "metadata": {},
   "outputs": [
    {
     "name": "stdout",
     "output_type": "stream",
     "text": [
      "Number of docs:  9\n"
     ]
    }
   ],
   "source": [
    "docsFolder = 'docs/'\n",
    "k = 3.0\n",
    "minsup = 1/k\n",
    "\n",
    "N = len(os.listdir(docsFolder))\n",
    "print(\"Number of docs: \", N)"
   ]
  },
  {
   "cell_type": "code",
   "execution_count": 4,
   "metadata": {},
   "outputs": [
    {
     "name": "stdout",
     "output_type": "stream",
     "text": [
      "Paths per doc:  755 7122 813 813 806 814 7173 385 417\n",
      "Total paths:  7357\n",
      "['custom-block/block/list', 'scenes/scene/blocks/block-definition/script/block/script/block/script/block/script/block/block/list/block/list/block/block/block/block', 'project/scenes/scene/stage/sprites/sprite/blocks', 'script/block/block/block/block/script/block/block/list/block/block/block/l', 'scene/blocks/block-definition/script/block/script/block/custom-block/block/block', 'scene/blocks/block-definition/script/block/script/block/script/block/l', 'scene/blocks/block-definition/script/block/block/block/autolambda/block/custom-block', 'project/scenes/scene/blocks/block-definition/script/block/script/custom-block/custom-block', 'block-definition/script/block/script/block/script/block/block/block/block/block/block/list', 'sprites/watcher', 'block-definition/script/block/block/block/list/block/block/l/option', 'block/script/block/block/block/block/block/block/autolambda', 'sounds', 'scenes/scene/blocks/block-definition/scripts/script/custom-block/block/list/l', 'block/autolambda/block/block/block/custom-block', 'script/block/list/block/script/block/block/l', 'custom-block/block/list/block/list/block/list/block/l', 'project/scenes/scene/blocks/block-definition/script/block/script/block/block/block/block/block/block', 'scene/blocks/block-definition/script/block/script/block/block/block/list/block/block/block', 'script/custom-block/script/block/script/block/script/custom-block/block/list/block/block/block/list', 'script/block/script/block/block/block/l/option', 'scene/blocks/block-definition/script/custom-block/script/block/script/block/custom-block/block/autolambda/block/block', 'sprite/scripts', 'project/scenes/scene/blocks/block-definition/script/block/custom-block/list/block/block/list/block', 'block-definition/script/block/block/block/block/autolambda/custom-block/l']\n"
     ]
    }
   ],
   "source": [
    "from lxml import etree\n",
    "import re\n",
    "import os\n",
    "from collections import defaultdict\n",
    "\n",
    "\n",
    "docpathsAll = []\n",
    "\n",
    "# Paths in each doc and their subpaths\n",
    "for docName in os.listdir(docsFolder):\n",
    "    doc = etree.parse(docsFolder + docName)\n",
    "    docpathsFreq = defaultdict(int)\n",
    "    for node in doc.iter():\n",
    "        full_path = doc.getpath(node)\n",
    "        full_path = re.sub(r'\\[\\d*\\]', '', full_path) # remove [num] markers inserted by lxml\n",
    "        for f in contiguous_subpaths(full_path): \n",
    "            docpathsFreq[f] += 1\n",
    "    docpathsAll.append(docpathsFreq)\n",
    "\n",
    "# All paths\n",
    "print(\"Paths per doc: \", *(len(docpathsFreq) for docpathsFreq in docpathsAll))\n",
    "paths = list({docpath for docpathsFreq in docpathsAll for docpath in docpathsFreq})\n",
    "print(\"Total paths: \", len(paths))\n",
    "print(paths[0:25])\n",
    "\n"
   ]
  },
  {
   "cell_type": "code",
   "execution_count": 5,
   "metadata": {},
   "outputs": [
    {
     "name": "stdout",
     "output_type": "stream",
     "text": [
      "Patterns: 81\n",
      "['custom-block/block/list', 'project/scenes/scene/stage/sprites/sprite/blocks', 'scene/blocks/block-definition/script/block/block/block/autolambda/block/custom-block', 'sprites/watcher', 'sounds', 'sprite/scripts', 'scene/stage/costumes', 'project/scenes/scene/blocks/block-definition/script/block/block/block/block', 'block-definition/script/block/block/block/autolambda/block/block', 'project/scenes/scene/headers', 'project/scenes/scene/blocks/block-definition/script/block/script/block/block', 'blocks/block-definition/script/block/block/custom-block', 'scene/blocks/block-definition/script/block/block/list/block/block/list', 'scenes/scene/variables/variable/list', 'blocks/block-definition/script/block/block/block/block/l', 'autolambda/block/custom-block/l', 'scenes/scene/blocks/block-definition/script/block/block/list/l', 'block/autolambda/custom-block', 'script/block/script/custom-block', 'script/block/script/block/block/l/option', 'block/script/custom-block/block/l', 'sprites/sprite/costumes', 'blocks/block-definition/comment', 'block-definition/script/block/block/list/block/block/block', 'scene/notes']\n"
     ]
    }
   ],
   "source": [
    "# Patterns = Maximum frequency paths: occur in at least minsup% of docs\n",
    "maxfreqpaths = []\n",
    "for path in paths:\n",
    "    freq = sum([1 for docpaths in docpathsAll if path in docpaths])\n",
    "    # TODO: No shared subpath criteria might be biased\n",
    "    if (freq/N >= minsup) and not any((path in maxfreqpath or maxfreqpath in path) for maxfreqpath in maxfreqpaths): # TODO: Optimize\n",
    "        maxfreqpaths.append(path)\n",
    "\n",
    "print(\"Patterns:\", len(maxfreqpaths))\n",
    "print(maxfreqpaths[0:25])"
   ]
  },
  {
   "cell_type": "code",
   "execution_count": 6,
   "metadata": {},
   "outputs": [],
   "source": [
    "# Frequency of a path in a doc\n",
    "def m(p, di):\n",
    "    docpathsFreq = docpathsAll[di]\n",
    "    return docpathsFreq[p]\n",
    "\n",
    "# Similarity between two path patterns, using AHC Complete Link Algorithm\n",
    "def sim(p1, p2):\n",
    "    n = 0\n",
    "    d = 0\n",
    "    for docindex in range(N):\n",
    "        m1 = m(p1, docindex)\n",
    "        m2 = m(p2, docindex)\n",
    "        mmin = min(m1, m2)\n",
    "        n += mmin\n",
    "        d += (m1 + m2 - mmin)\n",
    "    return n/d"
   ]
  },
  {
   "cell_type": "code",
   "execution_count": 7,
   "metadata": {},
   "outputs": [],
   "source": [
    "from cluster import HierarchicalClustering\n",
    "\n",
    "cl = HierarchicalClustering(maxfreqpaths, sim)\n",
    "cl.set_linkage_method('complete')"
   ]
  },
  {
   "cell_type": "code",
   "execution_count": 10,
   "metadata": {},
   "outputs": [
    {
     "name": "stdout",
     "output_type": "stream",
     "text": [
      "Number of profiles:  2\n"
     ]
    }
   ],
   "source": [
    "profiles = cl.getlevel(minsup)\n",
    "print(\"Number of profiles: \", len(profiles))"
   ]
  },
  {
   "cell_type": "code",
   "execution_count": 13,
   "metadata": {},
   "outputs": [
    {
     "data": {
      "text/plain": [
       "['block/color',\n",
       " 'project/scenes/scene/blocks/block-definition/script/block/script/block/block',\n",
       " 'project/scenes/scene/headers',\n",
       " 'scenes/scene/blocks/block-definition/script/custom-block',\n",
       " 'project/scenes/scene/hidden',\n",
       " 'scene/blocks/block-definition/script/block/script/block/block/block',\n",
       " 'scene/notes',\n",
       " 'script/block/script/custom-block',\n",
       " 'autolambda/block/custom-block/l',\n",
       " 'scenes/scene/blocks/block-definition/script/block/script/block/block/l',\n",
       " 'autolambda/custom-block/l',\n",
       " 'block-definition/code',\n",
       " 'script/block/block/list/block/block/block/autolambda',\n",
       " 'translations',\n",
       " 'block/block/block/autolambda/block/block/block/l',\n",
       " 'script/block/block/block/block/list']"
      ]
     },
     "execution_count": 13,
     "metadata": {},
     "output_type": "execute_result"
    }
   ],
   "source": [
    "profiles[0]"
   ]
  },
  {
   "cell_type": "code",
   "execution_count": 18,
   "metadata": {},
   "outputs": [],
   "source": [
    "#cl.display()"
   ]
  },
  {
   "cell_type": "code",
   "execution_count": 14,
   "metadata": {},
   "outputs": [],
   "source": [
    "def connection_strength(docpathsFreq, profile):\n",
    "    n = 0\n",
    "    d = 0\n",
    "    for pattern in profile:\n",
    "        if docpathsFreq[pattern] > 0:\n",
    "            n += 1\n",
    "    return n/len(profile)"
   ]
  },
  {
   "cell_type": "code",
   "execution_count": 15,
   "metadata": {},
   "outputs": [],
   "source": [
    "import numpy as np\n",
    "\n",
    "def assign_docs(docpathsAll, profiles):\n",
    "    for docindex in range(N):\n",
    "        print(\"Doc \", docindex)\n",
    "        docpathsFreq = docpathsAll[docindex]\n",
    "        strengths = [connection_strength(docpathsFreq, profile) for profile in profiles]\n",
    "        print(\"Connection strengths per profile: \", strengths)\n",
    "        profileindex = np.argmax(strengths)\n",
    "        print(\"Assigned profile: \", profileindex)"
   ]
  },
  {
   "cell_type": "code",
   "execution_count": 16,
   "metadata": {},
   "outputs": [
    {
     "name": "stdout",
     "output_type": "stream",
     "text": [
      "Doc  0\n",
      "Connection strengths per profile:  [0.9375, 0.9230769230769231]\n",
      "Assigned profile:  0\n",
      "Doc  1\n",
      "Connection strengths per profile:  [0.9375, 1.0]\n",
      "Assigned profile:  1\n",
      "Doc  2\n",
      "Connection strengths per profile:  [0.875, 0.9692307692307692]\n",
      "Assigned profile:  1\n",
      "Doc  3\n",
      "Connection strengths per profile:  [0.9375, 0.9384615384615385]\n",
      "Assigned profile:  1\n",
      "Doc  4\n",
      "Connection strengths per profile:  [1.0, 0.9846153846153847]\n",
      "Assigned profile:  0\n",
      "Doc  5\n",
      "Connection strengths per profile:  [0.9375, 0.9692307692307692]\n",
      "Assigned profile:  1\n",
      "Doc  6\n",
      "Connection strengths per profile:  [1.0, 1.0]\n",
      "Assigned profile:  0\n",
      "Doc  7\n",
      "Connection strengths per profile:  [0.625, 0.4461538461538462]\n",
      "Assigned profile:  0\n",
      "Doc  8\n",
      "Connection strengths per profile:  [0.4375, 0.4]\n",
      "Assigned profile:  0\n"
     ]
    }
   ],
   "source": [
    "assign_docs(docpathsAll, profiles)"
   ]
  }
 ],
 "metadata": {
  "interpreter": {
   "hash": "aa7102d663cee38cd3b4995f61138fe8bac88d5c64b98dfb68c115630ae5cadd"
  },
  "kernelspec": {
   "display_name": "env",
   "language": "python",
   "name": "python3"
  },
  "language_info": {
   "codemirror_mode": {
    "name": "ipython",
    "version": 3
   },
   "file_extension": ".py",
   "mimetype": "text/x-python",
   "name": "python",
   "nbconvert_exporter": "python",
   "pygments_lexer": "ipython3",
   "version": "3.9.12"
  },
  "orig_nbformat": 4
 },
 "nbformat": 4,
 "nbformat_minor": 2
}
