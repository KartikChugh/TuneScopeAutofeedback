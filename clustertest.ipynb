{
 "cells": [
  {
   "cell_type": "code",
   "execution_count": 4,
   "metadata": {},
   "outputs": [
    {
     "ename": "AttributeError",
     "evalue": "'int' object has no attribute 'topology'",
     "output_type": "error",
     "traceback": [
      "\u001b[1;31m---------------------------------------------------------------------------\u001b[0m",
      "\u001b[1;31mAttributeError\u001b[0m                            Traceback (most recent call last)",
      "\u001b[1;32mc:\\Users\\User\\Documents\\Research - TuneScope\\clustering\\clustertest.ipynb Cell 1'\u001b[0m in \u001b[0;36m<cell line: 4>\u001b[1;34m()\u001b[0m\n\u001b[0;32m      <a href='vscode-notebook-cell:/c%3A/Users/User/Documents/Research%20-%20TuneScope/clustering/clustertest.ipynb#ch0000000?line=1'>2</a>\u001b[0m data \u001b[39m=\u001b[39m [\u001b[39m12\u001b[39m,\u001b[39m34\u001b[39m,\u001b[39m23\u001b[39m,\u001b[39m32\u001b[39m,\u001b[39m46\u001b[39m,\u001b[39m96\u001b[39m,\u001b[39m13\u001b[39m]\n\u001b[0;32m      <a href='vscode-notebook-cell:/c%3A/Users/User/Documents/Research%20-%20TuneScope/clustering/clustertest.ipynb#ch0000000?line=2'>3</a>\u001b[0m cl \u001b[39m=\u001b[39m HierarchicalClustering(data, \u001b[39mlambda\u001b[39;00m x,y: \u001b[39mabs\u001b[39m(x\u001b[39m-\u001b[39my))\n\u001b[1;32m----> <a href='vscode-notebook-cell:/c%3A/Users/User/Documents/Research%20-%20TuneScope/clustering/clustertest.ipynb#ch0000000?line=3'>4</a>\u001b[0m cl\u001b[39m.\u001b[39;49mtopo()\n",
      "File \u001b[1;32m~\\.conda\\envs\\env\\lib\\site-packages\\cluster\\method\\base.py:55\u001b[0m, in \u001b[0;36mBaseClusterMethod.topo\u001b[1;34m(self)\u001b[0m\n\u001b[0;32m     <a href='file:///c%3A/Users/User/.conda/envs/env/lib/site-packages/cluster/method/base.py?line=48'>49</a>\u001b[0m \u001b[39mdef\u001b[39;00m \u001b[39mtopo\u001b[39m(\u001b[39mself\u001b[39m):\n\u001b[0;32m     <a href='file:///c%3A/Users/User/.conda/envs/env/lib/site-packages/cluster/method/base.py?line=49'>50</a>\u001b[0m     \u001b[39m\"\"\"\u001b[39;00m\n\u001b[0;32m     <a href='file:///c%3A/Users/User/.conda/envs/env/lib/site-packages/cluster/method/base.py?line=50'>51</a>\u001b[0m \u001b[39m    Returns the structure (topology) of the cluster.\u001b[39;00m\n\u001b[0;32m     <a href='file:///c%3A/Users/User/.conda/envs/env/lib/site-packages/cluster/method/base.py?line=51'>52</a>\u001b[0m \n\u001b[0;32m     <a href='file:///c%3A/Users/User/.conda/envs/env/lib/site-packages/cluster/method/base.py?line=52'>53</a>\u001b[0m \u001b[39m    See :py:meth:`~cluster.cluster.Cluster.topology` for more information.\u001b[39;00m\n\u001b[0;32m     <a href='file:///c%3A/Users/User/.conda/envs/env/lib/site-packages/cluster/method/base.py?line=53'>54</a>\u001b[0m \u001b[39m    \"\"\"\u001b[39;00m\n\u001b[1;32m---> <a href='file:///c%3A/Users/User/.conda/envs/env/lib/site-packages/cluster/method/base.py?line=54'>55</a>\u001b[0m     \u001b[39mreturn\u001b[39;00m \u001b[39mself\u001b[39;49m\u001b[39m.\u001b[39;49mdata[\u001b[39m0\u001b[39;49m]\u001b[39m.\u001b[39;49mtopology()\n",
      "\u001b[1;31mAttributeError\u001b[0m: 'int' object has no attribute 'topology'"
     ]
    }
   ],
   "source": [
    "from cluster import HierarchicalClustering\n",
    "data = [12,34,23,32,46,96,13]\n",
    "cl = HierarchicalClustering(data, lambda x,y: abs(x-y))\n",
    "cl."
   ]
  }
 ],
 "metadata": {
  "interpreter": {
   "hash": "b3ba2566441a7c06988d0923437866b63cedc61552a5af99d1f4fb67d367b25f"
  },
  "kernelspec": {
   "display_name": "env",
   "language": "python",
   "name": "python3"
  },
  "language_info": {
   "codemirror_mode": {
    "name": "ipython",
    "version": 3
   },
   "file_extension": ".py",
   "mimetype": "text/x-python",
   "name": "python",
   "nbconvert_exporter": "python",
   "pygments_lexer": "ipython3",
   "version": "3.9.12"
  },
  "orig_nbformat": 4
 },
 "nbformat": 4,
 "nbformat_minor": 2
}
